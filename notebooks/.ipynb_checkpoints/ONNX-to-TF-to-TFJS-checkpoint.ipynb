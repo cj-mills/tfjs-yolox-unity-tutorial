{
 "cells": [
  {
   "cell_type": "markdown",
   "id": "ab2ee458",
   "metadata": {},
   "source": [
    "**Install Tensorflow.js conversion dependencies**"
   ]
  },
  {
   "cell_type": "code",
   "execution_count": null,
   "id": "07b70713",
   "metadata": {},
   "outputs": [],
   "source": [
    "# %%capture\n",
    "# !pip install onnxruntime\n",
    "# !pip install onnx-tf\n",
    "# !pip install tensorflowjs\n",
    "# !pip install onnx-simplifier\n",
    "# !pip install simple-onnx-processing-tools\n",
    "# !pip install -U onnx_graphsurgeon --index-url https://pypi.ngc.nvidia.com"
   ]
  },
  {
   "cell_type": "markdown",
   "id": "90ad3a5c",
   "metadata": {},
   "source": [
    "**Import dependencies for TensorFlow.js conversion**"
   ]
  },
  {
   "cell_type": "code",
   "execution_count": 1,
   "id": "19d295c3",
   "metadata": {},
   "outputs": [
    {
     "name": "stderr",
     "output_type": "stream",
     "text": [
      "2022-10-15 11:17:02.584048: I tensorflow/core/platform/cpu_feature_guard.cc:193] This TensorFlow binary is optimized with oneAPI Deep Neural Network Library (oneDNN) to use the following CPU instructions in performance-critical operations:  AVX2 AVX512F AVX512_VNNI FMA\n",
      "To enable them in other operations, rebuild TensorFlow with the appropriate compiler flags.\n",
      "2022-10-15 11:17:02.895429: I tensorflow/core/util/util.cc:169] oneDNN custom operations are on. You may see slightly different numerical results due to floating-point round-off errors from different computation orders. To turn them off, set the environment variable `TF_ENABLE_ONEDNN_OPTS=0`.\n",
      "2022-10-15 11:17:03.024030: E tensorflow/stream_executor/cuda/cuda_blas.cc:2981] Unable to register cuBLAS factory: Attempting to register factory for plugin cuBLAS when one has already been registered\n",
      "2022-10-15 11:17:03.722205: W tensorflow/stream_executor/platform/default/dso_loader.cc:64] Could not load dynamic library 'libnvinfer.so.7'; dlerror: libnvinfer.so.7: cannot open shared object file: No such file or directory\n",
      "2022-10-15 11:17:03.722266: W tensorflow/stream_executor/platform/default/dso_loader.cc:64] Could not load dynamic library 'libnvinfer_plugin.so.7'; dlerror: libnvinfer_plugin.so.7: cannot open shared object file: No such file or directory\n",
      "2022-10-15 11:17:03.722271: W tensorflow/compiler/tf2tensorrt/utils/py_utils.cc:38] TF-TRT Warning: Cannot dlopen some TensorRT libraries. If you would like to use Nvidia GPU with TensorRT, please make sure the missing libraries mentioned above are installed properly.\n",
      "/home/innom-dt/mambaforge/envs/fastai-base/lib/python3.10/site-packages/tensorflow_addons/utils/ensure_tf_install.py:53: UserWarning: Tensorflow Addons supports using Python ops for all Tensorflow versions above or equal to 2.7.0 and strictly below 2.10.0 (nightly versions are not supported). \n",
      " The versions of TensorFlow you are currently using is 2.10.0 and is not supported. \n",
      "Some things might work, some things might not.\n",
      "If you were to encounter a bug, do not file an issue.\n",
      "If you want to make sure you're using a tested and supported configuration, either change the TensorFlow version or the TensorFlow Addons's version. \n",
      "You can find the compatibility matrix in TensorFlow Addon's readme:\n",
      "https://github.com/tensorflow/addons\n",
      "  warnings.warn(\n"
     ]
    }
   ],
   "source": [
    "from pathlib import Path\n",
    "import onnx\n",
    "from scc4onnx import order_conversion\n",
    "from onnxsim import simplify\n",
    "from onnx_tf.backend import prepare"
   ]
  },
  {
   "cell_type": "code",
   "execution_count": 4,
   "id": "0e2ee374",
   "metadata": {},
   "outputs": [],
   "source": [
    "import pandas as pd\n",
    "pd.set_option('max_colwidth', None)\n",
    "pd.set_option('display.max_rows', None)\n",
    "pd.set_option('display.max_columns', None)"
   ]
  },
  {
   "cell_type": "markdown",
   "id": "c8b53486",
   "metadata": {},
   "source": [
    "**Download YOLOX model**"
   ]
  },
  {
   "cell_type": "code",
   "execution_count": 2,
   "id": "84c41c4b",
   "metadata": {},
   "outputs": [
    {
     "name": "stdout",
     "output_type": "stream",
     "text": [
      "--2022-10-15 11:34:41--  https://github.com/cj-mills/icevision-openvino-unity-tutorial/raw/main/notebooks/hagrid-sample-250k-384p-YOLOX.onnx\n",
      "Resolving github.com (github.com)... 192.30.255.113\n",
      "Connecting to github.com (github.com)|192.30.255.113|:443... connected.\n",
      "HTTP request sent, awaiting response... 302 Found\n",
      "Location: https://raw.githubusercontent.com/cj-mills/icevision-openvino-unity-tutorial/main/notebooks/hagrid-sample-250k-384p-YOLOX.onnx [following]\n",
      "--2022-10-15 11:34:41--  https://raw.githubusercontent.com/cj-mills/icevision-openvino-unity-tutorial/main/notebooks/hagrid-sample-250k-384p-YOLOX.onnx\n",
      "Resolving raw.githubusercontent.com (raw.githubusercontent.com)... 185.199.110.133, 185.199.109.133, 185.199.108.133, ...\n",
      "Connecting to raw.githubusercontent.com (raw.githubusercontent.com)|185.199.110.133|:443... connected.\n",
      "HTTP request sent, awaiting response... 200 OK\n",
      "Length: 20153945 (19M) [application/octet-stream]\n",
      "Saving to: ‘hagrid-sample-250k-384p-YOLOX.onnx’\n",
      "\n",
      "hagrid-sample-250k- 100%[===================>]  19.22M  47.9MB/s    in 0.4s    \n",
      "\n",
      "2022-10-15 11:34:43 (47.9 MB/s) - ‘hagrid-sample-250k-384p-YOLOX.onnx’ saved [20153945/20153945]\n",
      "\n"
     ]
    }
   ],
   "source": [
    "!wget https://github.com/cj-mills/icevision-openvino-unity-tutorial/raw/main/notebooks/hagrid-sample-250k-384p-YOLOX.onnx"
   ]
  },
  {
   "cell_type": "markdown",
   "id": "088725d1",
   "metadata": {},
   "source": [
    "**Define data directory**"
   ]
  },
  {
   "cell_type": "code",
   "execution_count": 5,
   "id": "c40523b9",
   "metadata": {},
   "outputs": [],
   "source": [
    "data_dir = Path('./')"
   ]
  },
  {
   "cell_type": "markdown",
   "id": "5f044d55",
   "metadata": {},
   "source": [
    "**Get available ONNX files**"
   ]
  },
  {
   "cell_type": "code",
   "execution_count": 6,
   "id": "e9beb900",
   "metadata": {},
   "outputs": [
    {
     "data": {
      "text/html": [
       "<div>\n",
       "<style scoped>\n",
       "    .dataframe tbody tr th:only-of-type {\n",
       "        vertical-align: middle;\n",
       "    }\n",
       "\n",
       "    .dataframe tbody tr th {\n",
       "        vertical-align: top;\n",
       "    }\n",
       "\n",
       "    .dataframe thead th {\n",
       "        text-align: right;\n",
       "    }\n",
       "</style>\n",
       "<table border=\"1\" class=\"dataframe\">\n",
       "  <thead>\n",
       "    <tr style=\"text-align: right;\">\n",
       "      <th></th>\n",
       "      <th>0</th>\n",
       "    </tr>\n",
       "  </thead>\n",
       "  <tbody>\n",
       "    <tr>\n",
       "      <th>0</th>\n",
       "      <td>hagrid-sample-250k-384p-YOLOX.onnx</td>\n",
       "    </tr>\n",
       "  </tbody>\n",
       "</table>\n",
       "</div>"
      ],
      "text/plain": [
       "                                    0\n",
       "0  hagrid-sample-250k-384p-YOLOX.onnx"
      ]
     },
     "execution_count": 6,
     "metadata": {},
     "output_type": "execute_result"
    }
   ],
   "source": [
    "onnx_files = [p for p in Path( data_dir ).iterdir() if p.suffix == '.onnx']\n",
    "pd.DataFrame([file.name for file in onnx_files])"
   ]
  },
  {
   "cell_type": "markdown",
   "id": "6ba699b5",
   "metadata": {},
   "source": [
    "**Select ONNX model**"
   ]
  },
  {
   "cell_type": "code",
   "execution_count": 8,
   "id": "a38b756b",
   "metadata": {},
   "outputs": [
    {
     "data": {
      "text/plain": [
       "'hagrid-sample-250k-384p-YOLOX.onnx'"
      ]
     },
     "execution_count": 8,
     "metadata": {},
     "output_type": "execute_result"
    }
   ],
   "source": [
    "onnx_model_path = onnx_files[0]\n",
    "onnx_model_path.name"
   ]
  },
  {
   "cell_type": "markdown",
   "id": "f41e0ff8",
   "metadata": {},
   "source": [
    "**Load ONNX model**"
   ]
  },
  {
   "cell_type": "code",
   "execution_count": 9,
   "id": "c993a233",
   "metadata": {},
   "outputs": [],
   "source": [
    "onnx_model = onnx.load(onnx_model_path)"
   ]
  },
  {
   "cell_type": "markdown",
   "id": "1820a377",
   "metadata": {},
   "source": [
    "**Inspect model input**"
   ]
  },
  {
   "cell_type": "code",
   "execution_count": 10,
   "id": "87421f6f",
   "metadata": {},
   "outputs": [
    {
     "data": {
      "text/plain": [
       "name: \"input\"\n",
       "type {\n",
       "  tensor_type {\n",
       "    elem_type: 1\n",
       "    shape {\n",
       "      dim {\n",
       "        dim_value: 1\n",
       "      }\n",
       "      dim {\n",
       "        dim_value: 3\n",
       "      }\n",
       "      dim {\n",
       "        dim_param: \"height\"\n",
       "      }\n",
       "      dim {\n",
       "        dim_param: \"width\"\n",
       "      }\n",
       "    }\n",
       "  }\n",
       "}"
      ]
     },
     "execution_count": 10,
     "metadata": {},
     "output_type": "execute_result"
    }
   ],
   "source": [
    "onnx_model.graph.input[0]"
   ]
  },
  {
   "cell_type": "markdown",
   "id": "47a7e030",
   "metadata": {},
   "source": [
    "**Get input name**"
   ]
  },
  {
   "cell_type": "code",
   "execution_count": 11,
   "id": "86775ca9",
   "metadata": {},
   "outputs": [
    {
     "data": {
      "text/plain": [
       "'input'"
      ]
     },
     "execution_count": 11,
     "metadata": {},
     "output_type": "execute_result"
    }
   ],
   "source": [
    "input_name = onnx_model.graph.input[0].name\n",
    "input_name"
   ]
  },
  {
   "cell_type": "markdown",
   "id": "b4d80558",
   "metadata": {},
   "source": [
    "**Convert model input to channels-last format**"
   ]
  },
  {
   "cell_type": "code",
   "execution_count": 12,
   "id": "f6ba839d",
   "metadata": {},
   "outputs": [],
   "source": [
    "onnx_model = order_conversion(\n",
    "    onnx_graph=onnx_model,\n",
    "    input_op_names_and_order_dims={f\"{input_name}\": [0,2,3,1]},\n",
    "    non_verbose=True\n",
    ")"
   ]
  },
  {
   "cell_type": "markdown",
   "id": "646f86d7",
   "metadata": {},
   "source": [
    "**Inspect updated model input**"
   ]
  },
  {
   "cell_type": "code",
   "execution_count": 13,
   "id": "7c5bef58",
   "metadata": {},
   "outputs": [
    {
     "data": {
      "text/plain": [
       "name: \"input\"\n",
       "type {\n",
       "  tensor_type {\n",
       "    elem_type: 1\n",
       "    shape {\n",
       "      dim {\n",
       "        dim_value: 1\n",
       "      }\n",
       "      dim {\n",
       "        dim_param: \"height\"\n",
       "      }\n",
       "      dim {\n",
       "        dim_param: \"width\"\n",
       "      }\n",
       "      dim {\n",
       "        dim_value: 3\n",
       "      }\n",
       "    }\n",
       "  }\n",
       "}"
      ]
     },
     "execution_count": 13,
     "metadata": {},
     "output_type": "execute_result"
    }
   ],
   "source": [
    "onnx_model.graph.input[0]"
   ]
  },
  {
   "cell_type": "markdown",
   "id": "af940179",
   "metadata": {},
   "source": [
    "**Simplify ONNX model**"
   ]
  },
  {
   "cell_type": "code",
   "execution_count": 14,
   "id": "87c43634",
   "metadata": {},
   "outputs": [
    {
     "data": {
      "text/plain": [
       "True"
      ]
     },
     "execution_count": 14,
     "metadata": {},
     "output_type": "execute_result"
    }
   ],
   "source": [
    "onnx_model, check = simplify(onnx_model)\n",
    "check"
   ]
  },
  {
   "cell_type": "markdown",
   "id": "eed9fe8e",
   "metadata": {},
   "source": [
    "**Prepare ONNX model for Tensorflow Backend**"
   ]
  },
  {
   "cell_type": "code",
   "execution_count": 15,
   "id": "9506cf81",
   "metadata": {},
   "outputs": [
    {
     "name": "stderr",
     "output_type": "stream",
     "text": [
      "2022-10-15 11:49:22.192572: I tensorflow/stream_executor/cuda/cuda_gpu_executor.cc:980] successful NUMA node read from SysFS had negative value (-1), but there must be at least one NUMA node, so returning NUMA node zero\n",
      "2022-10-15 11:49:22.262126: W tensorflow/stream_executor/platform/default/dso_loader.cc:64] Could not load dynamic library 'libcudnn.so.8'; dlerror: libcudnn.so.8: cannot open shared object file: No such file or directory\n",
      "2022-10-15 11:49:22.262139: W tensorflow/core/common_runtime/gpu/gpu_device.cc:1934] Cannot dlopen some GPU libraries. Please make sure the missing libraries mentioned above are installed properly if you would like to use GPU. Follow the guide at https://www.tensorflow.org/install/gpu for how to download and setup the required libraries for your platform.\n",
      "Skipping registering GPU devices...\n",
      "2022-10-15 11:49:22.264488: I tensorflow/core/platform/cpu_feature_guard.cc:193] This TensorFlow binary is optimized with oneAPI Deep Neural Network Library (oneDNN) to use the following CPU instructions in performance-critical operations:  AVX2 AVX512F AVX512_VNNI FMA\n",
      "To enable them in other operations, rebuild TensorFlow with the appropriate compiler flags.\n"
     ]
    }
   ],
   "source": [
    "tf_rep = prepare(onnx_model)"
   ]
  },
  {
   "cell_type": "markdown",
   "id": "11855228",
   "metadata": {},
   "source": [
    "**Define path for TensorFlow saved model directory**"
   ]
  },
  {
   "cell_type": "code",
   "execution_count": 17,
   "id": "ea1a6cf8",
   "metadata": {},
   "outputs": [
    {
     "data": {
      "text/plain": [
       "'./hagrid-sample-250k-384p-YOLOX'"
      ]
     },
     "execution_count": 17,
     "metadata": {},
     "output_type": "execute_result"
    }
   ],
   "source": [
    "tf_model_dir = f\"./{onnx_model_path.name.split('.')[0]}\"\n",
    "tf_model_dir"
   ]
  },
  {
   "cell_type": "markdown",
   "id": "21ea81c9",
   "metadata": {},
   "source": [
    "**Export backend representation to a Tensorflow proto file**"
   ]
  },
  {
   "cell_type": "code",
   "execution_count": 18,
   "id": "826d0309",
   "metadata": {},
   "outputs": [
    {
     "name": "stderr",
     "output_type": "stream",
     "text": [
      "WARNING:absl:Found untraced functions such as gen_tensor_dict while saving (showing 1 of 1). These functions will not be directly callable after loading.\n"
     ]
    },
    {
     "name": "stdout",
     "output_type": "stream",
     "text": [
      "INFO:tensorflow:Assets written to: ./hagrid-sample-250k-384p-YOLOX/assets\n"
     ]
    },
    {
     "name": "stderr",
     "output_type": "stream",
     "text": [
      "INFO:tensorflow:Assets written to: ./hagrid-sample-250k-384p-YOLOX/assets\n"
     ]
    }
   ],
   "source": [
    "tf_rep.export_graph(tf_model_dir)"
   ]
  },
  {
   "cell_type": "markdown",
   "id": "b9c6398a",
   "metadata": {},
   "source": [
    "**Define directory path to store tfjs model files**"
   ]
  },
  {
   "cell_type": "code",
   "execution_count": 19,
   "id": "8f233eb8",
   "metadata": {},
   "outputs": [
    {
     "data": {
      "text/plain": [
       "'./hagrid-sample-250k-384p-YOLOX-tfjs-uint8'"
      ]
     },
     "execution_count": 19,
     "metadata": {},
     "output_type": "execute_result"
    }
   ],
   "source": [
    "tfjs_model_dir = f\"{tf_model_dir}-tfjs-uint8\"\n",
    "tfjs_model_dir"
   ]
  },
  {
   "cell_type": "markdown",
   "id": "1583dfaf",
   "metadata": {},
   "source": [
    "**Define arguments for tfjs converter script**"
   ]
  },
  {
   "cell_type": "code",
   "execution_count": 20,
   "id": "67389193",
   "metadata": {},
   "outputs": [],
   "source": [
    "from IPython.display import Markdown, display"
   ]
  },
  {
   "cell_type": "code",
   "execution_count": 21,
   "id": "7e7f0716",
   "metadata": {},
   "outputs": [
    {
     "data": {
      "text/markdown": [
       "```bash\n",
       "tensorflowjs_converter --input_format=tf_saved_model --output_format=tfjs_graph_model --signature_name=serving_default --saved_model_tags=serve \"./hagrid-sample-250k-384p-YOLOX\" \"./hagrid-sample-250k-384p-YOLOX-tfjs-uint8\" \"--quantize_uint8\"\n",
       "```"
      ],
      "text/plain": [
       "<IPython.core.display.Markdown object>"
      ]
     },
     "metadata": {},
     "output_type": "display_data"
    }
   ],
   "source": [
    "tfjs_convert_command = f\"\"\"tensorflowjs_converter\n",
    "                 --input_format=tf_saved_model \n",
    "                 --output_format=tfjs_graph_model \n",
    "                 --signature_name=serving_default \n",
    "                 --saved_model_tags=serve \n",
    "                 \"{tf_model_dir}\" \n",
    "                 \"{tfjs_model_dir}\"\n",
    "                 \"--quantize_uint8\"\n",
    "                 \"\"\"\n",
    "tfjs_convert_command = \" \".join(tfjs_convert_command.split())\n",
    "display(Markdown(f\"```bash\\n{tfjs_convert_command}\\n```\"))"
   ]
  },
  {
   "cell_type": "markdown",
   "id": "f7e390c8",
   "metadata": {},
   "source": [
    "**Export SavedModel to TFJS format**"
   ]
  },
  {
   "cell_type": "code",
   "execution_count": 22,
   "id": "f2189e94",
   "metadata": {},
   "outputs": [
    {
     "name": "stdout",
     "output_type": "stream",
     "text": [
      "Exporting TensorFlow SavedModel to TensorFlow.js Graph model...\n",
      "2022-10-15 11:56:23.880679: E tensorflow/stream_executor/cuda/cuda_blas.cc:2981] Unable to register cuBLAS factory: Attempting to register factory for plugin cuBLAS when one has already been registered\n",
      "2022-10-15 11:56:24.179727: W tensorflow/stream_executor/platform/default/dso_loader.cc:64] Could not load dynamic library 'libnvinfer.so.7'; dlerror: libnvinfer.so.7: cannot open shared object file: No such file or directory\n",
      "2022-10-15 11:56:24.179759: W tensorflow/stream_executor/platform/default/dso_loader.cc:64] Could not load dynamic library 'libnvinfer_plugin.so.7'; dlerror: libnvinfer_plugin.so.7: cannot open shared object file: No such file or directory\n",
      "2022-10-15 11:56:24.179762: W tensorflow/compiler/tf2tensorrt/utils/py_utils.cc:38] TF-TRT Warning: Cannot dlopen some TensorRT libraries. If you would like to use Nvidia GPU with TensorRT, please make sure the missing libraries mentioned above are installed properly.\n",
      "2022-10-15 11:56:25.054245: W tensorflow/stream_executor/platform/default/dso_loader.cc:64] Could not load dynamic library 'libcudnn.so.8'; dlerror: libcudnn.so.8: cannot open shared object file: No such file or directory\n",
      "2022-10-15 11:56:25.054260: W tensorflow/core/common_runtime/gpu/gpu_device.cc:1934] Cannot dlopen some GPU libraries. Please make sure the missing libraries mentioned above are installed properly if you would like to use GPU. Follow the guide at https://www.tensorflow.org/install/gpu for how to download and setup the required libraries for your platform.\n",
      "Skipping registering GPU devices...\n",
      "2022-10-15 11:56:25.477681: W tensorflow/core/common_runtime/gpu/gpu_device.cc:1934] Cannot dlopen some GPU libraries. Please make sure the missing libraries mentioned above are installed properly if you would like to use GPU. Follow the guide at https://www.tensorflow.org/install/gpu for how to download and setup the required libraries for your platform.\n",
      "Skipping registering GPU devices...\n",
      "Writing weight file ./hagrid-sample-250k-384p-YOLOX-tfjs-uint8/model.json...\n",
      "weight PartitionedCall/Where with shape (0, 1) and dtype int64 was auto converted to the type int32\n",
      "weight PartitionedCall/Cast_20 with shape (1,) and dtype int64 was auto converted to the type int32\n",
      "weight PartitionedCall/Squeeze with shape (0,) and dtype int64 was auto converted to the type int32\n",
      "weight PartitionedCall/zeros_11 with shape () and dtype int64 was auto converted to the type int32\n",
      "weight PartitionedCall/Where_1 with shape (0, 1) and dtype int64 was auto converted to the type int32\n",
      "weight PartitionedCall/Cast_21 with shape (1,) and dtype int64 was auto converted to the type int32\n",
      "weight PartitionedCall/Squeeze_1 with shape (0,) and dtype int64 was auto converted to the type int32\n",
      "weight PartitionedCall/zeros_12 with shape () and dtype int64 was auto converted to the type int32\n",
      "weight unknown_125 with shape (3,) and dtype int64 was auto converted to the type int32\n",
      "weight PartitionedCall/Where_2 with shape (0, 1) and dtype int64 was auto converted to the type int32\n",
      "weight PartitionedCall/Cast_22 with shape (1,) and dtype int64 was auto converted to the type int32\n",
      "weight PartitionedCall/PadV2/paddings with shape (4, 2) and dtype int64 was auto converted to the type int32\n",
      "weight PartitionedCall/PadV2_1/paddings with shape (4, 2) and dtype int64 was auto converted to the type int32\n",
      "weight PartitionedCall/zeros_like_13 with shape (1,) and dtype int64 was auto converted to the type int32\n",
      "weight PartitionedCall/zeros_4 with shape () and dtype int64 was auto converted to the type int32\n",
      "weight PartitionedCall/Const_13 with shape () and dtype int64 was auto converted to the type int32\n",
      "weight PartitionedCall/zeros_like_14 with shape (1,) and dtype int64 was auto converted to the type int32\n",
      "weight PartitionedCall/zeros_like_1 with shape (1,) and dtype int64 was auto converted to the type int32\n",
      "weight PartitionedCall/zeros with shape () and dtype int64 was auto converted to the type int32\n",
      "weight PartitionedCall/Const_1 with shape () and dtype int64 was auto converted to the type int32\n",
      "weight PartitionedCall/zeros_like_2 with shape (1,) and dtype int64 was auto converted to the type int32\n",
      "weight PartitionedCall/Const with shape () and dtype int64 was auto converted to the type int32\n",
      "weight PartitionedCall/ExpandDims with shape (1, 1) and dtype int64 was auto converted to the type int32\n",
      "weight PartitionedCall/Cast_1 with shape (1,) and dtype int64 was auto converted to the type int32\n",
      "weight PartitionedCall/Const_2 with shape () and dtype int64 was auto converted to the type int32\n",
      "weight PartitionedCall/Const_12 with shape () and dtype int64 was auto converted to the type int32\n",
      "weight PartitionedCall/ExpandDims_4 with shape (1, 1) and dtype int64 was auto converted to the type int32\n",
      "weight PartitionedCall/Cast_9 with shape (1,) and dtype int64 was auto converted to the type int32\n",
      "weight PartitionedCall/Const_14 with shape () and dtype int64 was auto converted to the type int32\n",
      "weight PartitionedCall/zeros_like_19 with shape (1,) and dtype int64 was auto converted to the type int32\n",
      "weight PartitionedCall/zeros_6 with shape () and dtype int64 was auto converted to the type int32\n",
      "weight PartitionedCall/Const_19 with shape () and dtype int64 was auto converted to the type int32\n",
      "weight PartitionedCall/zeros_like_20 with shape (1,) and dtype int64 was auto converted to the type int32\n",
      "weight PartitionedCall/zeros_like_7 with shape (1,) and dtype int64 was auto converted to the type int32\n",
      "weight PartitionedCall/zeros_2 with shape () and dtype int64 was auto converted to the type int32\n",
      "weight PartitionedCall/Const_7 with shape () and dtype int64 was auto converted to the type int32\n",
      "weight PartitionedCall/zeros_like_8 with shape (1,) and dtype int64 was auto converted to the type int32\n",
      "weight PartitionedCall/Const_6 with shape () and dtype int64 was auto converted to the type int32\n",
      "weight PartitionedCall/ExpandDims_2 with shape (1, 1) and dtype int64 was auto converted to the type int32\n",
      "weight PartitionedCall/Cast_5 with shape (1,) and dtype int64 was auto converted to the type int32\n",
      "weight PartitionedCall/Const_8 with shape () and dtype int64 was auto converted to the type int32\n",
      "weight PartitionedCall/Const_18 with shape () and dtype int64 was auto converted to the type int32\n",
      "weight PartitionedCall/ExpandDims_6 with shape (1, 1) and dtype int64 was auto converted to the type int32\n",
      "weight PartitionedCall/Cast_13 with shape (1,) and dtype int64 was auto converted to the type int32\n",
      "weight PartitionedCall/Const_20 with shape () and dtype int64 was auto converted to the type int32\n",
      "weight PartitionedCall/zeros_like_16 with shape (1,) and dtype int64 was auto converted to the type int32\n",
      "weight PartitionedCall/zeros_5 with shape () and dtype int64 was auto converted to the type int32\n",
      "weight PartitionedCall/Const_16 with shape () and dtype int64 was auto converted to the type int32\n",
      "weight PartitionedCall/zeros_like_17 with shape (1,) and dtype int64 was auto converted to the type int32\n",
      "weight PartitionedCall/zeros_like_4 with shape (1,) and dtype int64 was auto converted to the type int32\n",
      "weight unknown_0 with shape (1,) and dtype int64 was auto converted to the type int32\n",
      "weight PartitionedCall/zeros_1 with shape () and dtype int64 was auto converted to the type int32\n",
      "weight PartitionedCall/Const_4 with shape () and dtype int64 was auto converted to the type int32\n",
      "weight PartitionedCall/zeros_like_5 with shape (1,) and dtype int64 was auto converted to the type int32\n",
      "weight PartitionedCall/Const_3 with shape () and dtype int64 was auto converted to the type int32\n",
      "weight PartitionedCall/ExpandDims_1 with shape (1, 1) and dtype int64 was auto converted to the type int32\n",
      "weight PartitionedCall/Cast_3 with shape (1,) and dtype int64 was auto converted to the type int32\n",
      "weight PartitionedCall/Const_5 with shape () and dtype int64 was auto converted to the type int32\n",
      "weight PartitionedCall/Const_15 with shape () and dtype int64 was auto converted to the type int32\n",
      "weight PartitionedCall/ExpandDims_5 with shape (1, 1) and dtype int64 was auto converted to the type int32\n",
      "weight PartitionedCall/Cast_11 with shape (1,) and dtype int64 was auto converted to the type int32\n",
      "weight PartitionedCall/Const_17 with shape () and dtype int64 was auto converted to the type int32\n",
      "weight PartitionedCall/zeros_like_22 with shape (1,) and dtype int64 was auto converted to the type int32\n",
      "weight PartitionedCall/zeros_7 with shape () and dtype int64 was auto converted to the type int32\n",
      "weight PartitionedCall/Const_22 with shape () and dtype int64 was auto converted to the type int32\n",
      "weight PartitionedCall/zeros_like_23 with shape (1,) and dtype int64 was auto converted to the type int32\n",
      "weight PartitionedCall/zeros_like_10 with shape (1,) and dtype int64 was auto converted to the type int32\n",
      "weight unknown_2 with shape (1,) and dtype int64 was auto converted to the type int32\n",
      "weight PartitionedCall/zeros_3 with shape () and dtype int64 was auto converted to the type int32\n",
      "weight PartitionedCall/Const_10 with shape () and dtype int64 was auto converted to the type int32\n",
      "weight PartitionedCall/zeros_like_11 with shape (1,) and dtype int64 was auto converted to the type int32\n",
      "weight unknown_1 with shape (1,) and dtype int64 was auto converted to the type int32\n",
      "weight PartitionedCall/Const_9 with shape () and dtype int64 was auto converted to the type int32\n",
      "weight PartitionedCall/ExpandDims_3 with shape (1, 1) and dtype int64 was auto converted to the type int32\n",
      "weight PartitionedCall/Cast_7 with shape (1,) and dtype int64 was auto converted to the type int32\n",
      "weight PartitionedCall/Const_11 with shape () and dtype int64 was auto converted to the type int32\n",
      "weight PartitionedCall/Const_21 with shape () and dtype int64 was auto converted to the type int32\n",
      "weight PartitionedCall/ExpandDims_7 with shape (1, 1) and dtype int64 was auto converted to the type int32\n",
      "weight PartitionedCall/Cast_15 with shape (1,) and dtype int64 was auto converted to the type int32\n",
      "weight unknown with shape (1,) and dtype int64 was auto converted to the type int32\n",
      "weight PartitionedCall/Const_23 with shape () and dtype int64 was auto converted to the type int32\n",
      "weight PartitionedCall/PadV2_2/paddings with shape (4, 2) and dtype int64 was auto converted to the type int32\n",
      "weight PartitionedCall/Squeeze_2 with shape (0,) and dtype int64 was auto converted to the type int32\n",
      "weight PartitionedCall/zeros_13 with shape () and dtype int64 was auto converted to the type int32\n"
     ]
    }
   ],
   "source": [
    "print(\"Exporting TensorFlow SavedModel to TensorFlow.js Graph model...\")\n",
    "conversion_result = %sx $tfjs_convert_command\n",
    "print(\"\\n\".join(conversion_result))"
   ]
  },
  {
   "cell_type": "markdown",
   "id": "496ec5bd",
   "metadata": {},
   "source": [
    "**Download JSON colormap**"
   ]
  },
  {
   "cell_type": "code",
   "execution_count": 23,
   "id": "32406daf",
   "metadata": {},
   "outputs": [
    {
     "name": "stdout",
     "output_type": "stream",
     "text": [
      "--2022-10-15 11:57:19--  https://raw.githubusercontent.com/cj-mills/icevision-openvino-unity-tutorial/main/notebooks/hagrid-sample-30k-384p-colormap.json\n",
      "Resolving raw.githubusercontent.com (raw.githubusercontent.com)... 185.199.110.133, 185.199.109.133, 185.199.108.133, ...\n",
      "Connecting to raw.githubusercontent.com (raw.githubusercontent.com)|185.199.110.133|:443... connected.\n",
      "HTTP request sent, awaiting response... 200 OK\n",
      "Length: 1026 (1.0K) [text/plain]\n",
      "Saving to: ‘hagrid-sample-30k-384p-colormap.json’\n",
      "\n",
      "hagrid-sample-30k-3 100%[===================>]   1.00K  --.-KB/s    in 0s      \n",
      "\n",
      "2022-10-15 11:57:19 (63.2 MB/s) - ‘hagrid-sample-30k-384p-colormap.json’ saved [1026/1026]\n",
      "\n"
     ]
    }
   ],
   "source": [
    "!wget https://raw.githubusercontent.com/cj-mills/icevision-openvino-unity-tutorial/main/notebooks/hagrid-sample-30k-384p-colormap.json"
   ]
  }
 ],
 "metadata": {
  "kernelspec": {
   "display_name": "Python 3 (ipykernel)",
   "language": "python",
   "name": "python3"
  },
  "language_info": {
   "codemirror_mode": {
    "name": "ipython",
    "version": 3
   },
   "file_extension": ".py",
   "mimetype": "text/x-python",
   "name": "python",
   "nbconvert_exporter": "python",
   "pygments_lexer": "ipython3",
   "version": "3.10.4"
  }
 },
 "nbformat": 4,
 "nbformat_minor": 5
}
